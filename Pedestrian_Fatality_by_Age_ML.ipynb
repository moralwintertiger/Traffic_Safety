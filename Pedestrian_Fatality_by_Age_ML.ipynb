{
 "cells": [
  {
   "cell_type": "markdown",
   "metadata": {},
   "source": [
    "# Pedestrian Fatality Risk, by age: estimation with sklearn and logistic regression \n",
    "\n",
    "This notebook explores a massive French dataset on traffic incidents from 2005-2016, containing almost 1 million \n",
    "incidents. Using various forms of regression and other ML-based approaches, models are built to estimate age as a\n",
    "predictor of fatality rate for pedestrians, scooter riders, and drivers. \n",
    "\n",
    "All data can be found on kaggle: \n",
    "    \n",
    "https://www.kaggle.com/ahmedlahlou/accidents-in-france-from-2005-to-2016/download#vehicles.csv\n",
    "    \n",
    "Note that this dataset lacks some interesting features, such as vehicle speed. Nonetheless, it is a large, mostly\n",
    "complete dataset, and thus it is a good tool for estimating overall fatality rates, even if those rates have a number\n",
    "of implicit variables. "
   ]
  },
  {
   "cell_type": "code",
   "execution_count": 3,
   "metadata": {},
   "outputs": [],
   "source": [
    "import pandas as pd\n",
    "import numpy as np\n",
    "\n",
    "#ML-specific libraries:\n",
    "\n",
    "from sklearn.utils import resample\n",
    "from sklearn.model_selection import train_test_split \n",
    "from sklearn.linear_model import LogisticRegression \n",
    "\n",
    "#For plotting:\n",
    "\n",
    "from matplotlib.patches import Patch\n",
    "from matplotlib.lines import Line2D\n",
    "import matplotlib.patches as mpatches\n",
    "import matplotlib.pyplot as plt\n",
    "from bokeh.io import output_notebook\n",
    "from bokeh.plotting import figure, show, output_file"
   ]
  },
  {
   "cell_type": "markdown",
   "metadata": {},
   "source": [
    "### Import datasets. Note that the encoding on these datasets is ISO-8859-1\n"
   ]
  },
  {
   "cell_type": "code",
   "execution_count": 4,
   "metadata": {},
   "outputs": [
    {
     "name": "stderr",
     "output_type": "stream",
     "text": [
      "/Users/ryanmdalton/Desktop/CODE/cities_and_populations/transit/transit_in_france/frenchdata/lib/python3.6/site-packages/IPython/core/interactiveshell.py:3058: DtypeWarning: Columns (14) have mixed types. Specify dtype option on import or set low_memory=False.\n",
      "  interactivity=interactivity, compiler=compiler, result=result)\n",
      "/Users/ryanmdalton/Desktop/CODE/cities_and_populations/transit/transit_in_france/frenchdata/lib/python3.6/site-packages/numpy/lib/arraysetops.py:568: FutureWarning: elementwise comparison failed; returning scalar instead, but in the future will perform elementwise comparison\n",
      "  mask |= (ar1 == a)\n",
      "/Users/ryanmdalton/Desktop/CODE/cities_and_populations/transit/transit_in_france/frenchdata/lib/python3.6/site-packages/IPython/core/interactiveshell.py:3058: DtypeWarning: Columns (2) have mixed types. Specify dtype option on import or set low_memory=False.\n",
      "  interactivity=interactivity, compiler=compiler, result=result)\n"
     ]
    }
   ],
   "source": [
    "caracteristics = pd.read_csv(\"caracteristics.csv\", encoding='ISO-8859-1', index_col=0) # french character encoding?\n",
    "vehicles = pd.read_csv(\"vehicles.csv\", encoding='ISO-8859-1', index_col=0) # french character encoding?\n",
    "places = pd.read_csv(\"places.csv\", encoding='ISO-8859-1', index_col=0) # french character encoding?\n",
    "users = pd.read_csv(\"users.csv\", encoding='ISO-8859-1', index_col=0) # french character encoding?"
   ]
  },
  {
   "cell_type": "markdown",
   "metadata": {},
   "source": [
    "### Explore the data a bit, to determine which attributes to keep and which to discard. "
   ]
  },
  {
   "cell_type": "code",
   "execution_count": 5,
   "metadata": {},
   "outputs": [],
   "source": [
    "road_data = caracteristics[['lum', 'int' , 'atm', 'an']] #lighting conditions, intersection type, atmospheric conditions, year of accident\n",
    "place_data = places[['catr', 'circ', 'vosp', 'larrout']] # category of road, traffic regime, reserved lane, roadway width\n",
    "user_data = users[['catu', 'grav', 'sexe', 'an_nais']] #user category, severity, awz, yob, safety equipment\n",
    "vehicle_data = vehicles[['catv']] #vehicle category"
   ]
  },
  {
   "cell_type": "code",
   "execution_count": 6,
   "metadata": {},
   "outputs": [
    {
     "name": "stderr",
     "output_type": "stream",
     "text": [
      "/Users/ryanmdalton/Desktop/CODE/cities_and_populations/transit/transit_in_france/frenchdata/lib/python3.6/site-packages/pandas/core/frame.py:4238: SettingWithCopyWarning: \n",
      "A value is trying to be set on a copy of a slice from a DataFrame\n",
      "\n",
      "See the caveats in the documentation: http://pandas.pydata.org/pandas-docs/stable/user_guide/indexing.html#returning-a-view-versus-a-copy\n",
      "  return super().rename(**kwargs)\n"
     ]
    }
   ],
   "source": [
    "#rename columns. For all column descriptors, go to kaggle.\n",
    "\n",
    "road_data.rename(columns={'lum':'lighting', 'int':'intersection_type', 'atm':'atmospheric_conditions', \n",
    "                          'an':'accident_year'}, inplace=True)\n",
    "place_data.rename(columns={'catr':'road_type', 'circ':'traffic_type', \n",
    "                           'vosp':'reserved_lane', 'larrout':'road_width'}, inplace=True)\n",
    "user_data.rename(columns={'catu':'user_type', 'grav':'severity', 'sexe':'sex', 'an_nais':'yob'}, inplace=True)\n",
    "vehicle_data.rename(columns={'catv':'vehicle_category'}, inplace=True)"
   ]
  },
  {
   "cell_type": "code",
   "execution_count": 7,
   "metadata": {},
   "outputs": [],
   "source": [
    "all_data = place_data.join(user_data).join(vehicle_data).join(road_data) #join all data:\n",
    "\n",
    "all_data.to_csv(\"french_collision_data.csv\") #save a local copy to play with "
   ]
  },
  {
   "cell_type": "markdown",
   "metadata": {},
   "source": [
    "### Take a look at pedestrian data specifically:"
   ]
  },
  {
   "cell_type": "code",
   "execution_count": 8,
   "metadata": {},
   "outputs": [
    {
     "data": {
      "text/html": [
       "<div>\n",
       "<style scoped>\n",
       "    .dataframe tbody tr th:only-of-type {\n",
       "        vertical-align: middle;\n",
       "    }\n",
       "\n",
       "    .dataframe tbody tr th {\n",
       "        vertical-align: top;\n",
       "    }\n",
       "\n",
       "    .dataframe thead th {\n",
       "        text-align: right;\n",
       "    }\n",
       "</style>\n",
       "<table border=\"1\" class=\"dataframe\">\n",
       "  <thead>\n",
       "    <tr style=\"text-align: right;\">\n",
       "      <th></th>\n",
       "      <th>road_type</th>\n",
       "      <th>traffic_type</th>\n",
       "      <th>reserved_lane</th>\n",
       "      <th>road_width</th>\n",
       "      <th>user_type</th>\n",
       "      <th>severity</th>\n",
       "      <th>sex</th>\n",
       "      <th>yob</th>\n",
       "      <th>vehicle_category</th>\n",
       "      <th>lighting</th>\n",
       "      <th>intersection_type</th>\n",
       "      <th>atmospheric_conditions</th>\n",
       "      <th>accident_year</th>\n",
       "    </tr>\n",
       "    <tr>\n",
       "      <th>Num_Acc</th>\n",
       "      <th></th>\n",
       "      <th></th>\n",
       "      <th></th>\n",
       "      <th></th>\n",
       "      <th></th>\n",
       "      <th></th>\n",
       "      <th></th>\n",
       "      <th></th>\n",
       "      <th></th>\n",
       "      <th></th>\n",
       "      <th></th>\n",
       "      <th></th>\n",
       "      <th></th>\n",
       "    </tr>\n",
       "  </thead>\n",
       "  <tbody>\n",
       "    <tr>\n",
       "      <th>200500000010</th>\n",
       "      <td>2.0</td>\n",
       "      <td>0.0</td>\n",
       "      <td>0.0</td>\n",
       "      <td>70.0</td>\n",
       "      <td>3</td>\n",
       "      <td>3</td>\n",
       "      <td>1</td>\n",
       "      <td>1962.0</td>\n",
       "      <td>7</td>\n",
       "      <td>3</td>\n",
       "      <td>1</td>\n",
       "      <td>2.0</td>\n",
       "      <td>5</td>\n",
       "    </tr>\n",
       "    <tr>\n",
       "      <th>200500000014</th>\n",
       "      <td>3.0</td>\n",
       "      <td>2.0</td>\n",
       "      <td>0.0</td>\n",
       "      <td>59.0</td>\n",
       "      <td>3</td>\n",
       "      <td>3</td>\n",
       "      <td>2</td>\n",
       "      <td>1936.0</td>\n",
       "      <td>7</td>\n",
       "      <td>5</td>\n",
       "      <td>1</td>\n",
       "      <td>2.0</td>\n",
       "      <td>5</td>\n",
       "    </tr>\n",
       "    <tr>\n",
       "      <th>200500000015</th>\n",
       "      <td>3.0</td>\n",
       "      <td>2.0</td>\n",
       "      <td>0.0</td>\n",
       "      <td>106.0</td>\n",
       "      <td>3</td>\n",
       "      <td>3</td>\n",
       "      <td>2</td>\n",
       "      <td>1938.0</td>\n",
       "      <td>7</td>\n",
       "      <td>5</td>\n",
       "      <td>1</td>\n",
       "      <td>1.0</td>\n",
       "      <td>5</td>\n",
       "    </tr>\n",
       "    <tr>\n",
       "      <th>200500000020</th>\n",
       "      <td>4.0</td>\n",
       "      <td>2.0</td>\n",
       "      <td>0.0</td>\n",
       "      <td>0.0</td>\n",
       "      <td>3</td>\n",
       "      <td>4</td>\n",
       "      <td>1</td>\n",
       "      <td>1952.0</td>\n",
       "      <td>7</td>\n",
       "      <td>5</td>\n",
       "      <td>1</td>\n",
       "      <td>2.0</td>\n",
       "      <td>5</td>\n",
       "    </tr>\n",
       "    <tr>\n",
       "      <th>200500000020</th>\n",
       "      <td>4.0</td>\n",
       "      <td>2.0</td>\n",
       "      <td>0.0</td>\n",
       "      <td>0.0</td>\n",
       "      <td>3</td>\n",
       "      <td>4</td>\n",
       "      <td>1</td>\n",
       "      <td>1949.0</td>\n",
       "      <td>7</td>\n",
       "      <td>5</td>\n",
       "      <td>1</td>\n",
       "      <td>2.0</td>\n",
       "      <td>5</td>\n",
       "    </tr>\n",
       "  </tbody>\n",
       "</table>\n",
       "</div>"
      ],
      "text/plain": [
       "              road_type  traffic_type  reserved_lane  road_width  user_type  \\\n",
       "Num_Acc                                                                       \n",
       "200500000010        2.0           0.0            0.0        70.0          3   \n",
       "200500000014        3.0           2.0            0.0        59.0          3   \n",
       "200500000015        3.0           2.0            0.0       106.0          3   \n",
       "200500000020        4.0           2.0            0.0         0.0          3   \n",
       "200500000020        4.0           2.0            0.0         0.0          3   \n",
       "\n",
       "              severity  sex     yob  vehicle_category  lighting  \\\n",
       "Num_Acc                                                           \n",
       "200500000010         3    1  1962.0                 7         3   \n",
       "200500000014         3    2  1936.0                 7         5   \n",
       "200500000015         3    2  1938.0                 7         5   \n",
       "200500000020         4    1  1952.0                 7         5   \n",
       "200500000020         4    1  1949.0                 7         5   \n",
       "\n",
       "              intersection_type  atmospheric_conditions  accident_year  \n",
       "Num_Acc                                                                 \n",
       "200500000010                  1                     2.0              5  \n",
       "200500000014                  1                     2.0              5  \n",
       "200500000015                  1                     1.0              5  \n",
       "200500000020                  1                     2.0              5  \n",
       "200500000020                  1                     2.0              5  "
      ]
     },
     "execution_count": 8,
     "metadata": {},
     "output_type": "execute_result"
    }
   ],
   "source": [
    "#filter for just pedestrians (categories 3 and 4, which excludes scooters, rollerblades):\n",
    "\n",
    "pedestrian_data = all_data[all_data['user_type'] == 3] #this gives us ~162k records\n",
    "pedestrian_data.head()"
   ]
  },
  {
   "cell_type": "code",
   "execution_count": 9,
   "metadata": {},
   "outputs": [
    {
     "name": "stderr",
     "output_type": "stream",
     "text": [
      "/Users/ryanmdalton/Desktop/CODE/cities_and_populations/transit/transit_in_france/frenchdata/lib/python3.6/site-packages/ipykernel_launcher.py:3: SettingWithCopyWarning: \n",
      "A value is trying to be set on a copy of a slice from a DataFrame.\n",
      "Try using .loc[row_indexer,col_indexer] = value instead\n",
      "\n",
      "See the caveats in the documentation: http://pandas.pydata.org/pandas-docs/stable/user_guide/indexing.html#returning-a-view-versus-a-copy\n",
      "  This is separate from the ipykernel package so we can avoid doing imports until\n",
      "/Users/ryanmdalton/Desktop/CODE/cities_and_populations/transit/transit_in_france/frenchdata/lib/python3.6/site-packages/ipykernel_launcher.py:4: SettingWithCopyWarning: \n",
      "A value is trying to be set on a copy of a slice from a DataFrame.\n",
      "Try using .loc[row_indexer,col_indexer] = value instead\n",
      "\n",
      "See the caveats in the documentation: http://pandas.pydata.org/pandas-docs/stable/user_guide/indexing.html#returning-a-view-versus-a-copy\n",
      "  after removing the cwd from sys.path.\n"
     ]
    }
   ],
   "source": [
    "#filter data such that all fatal accidents = 1 and nonfatal = 0. \n",
    "\n",
    "pedestrian_data['fatal'] = np.where(pedestrian_data['severity'] == 2, 1, 0)\n",
    "pedestrian_data['age'] = 2000 + pedestrian_data['accident_year'] - pedestrian_data['yob'] #Add an 'age' column. "
   ]
  },
  {
   "cell_type": "markdown",
   "metadata": {},
   "source": [
    "### Prepare data for ML"
   ]
  },
  {
   "cell_type": "code",
   "execution_count": 10,
   "metadata": {},
   "outputs": [
    {
     "data": {
      "text/html": [
       "<div>\n",
       "<style scoped>\n",
       "    .dataframe tbody tr th:only-of-type {\n",
       "        vertical-align: middle;\n",
       "    }\n",
       "\n",
       "    .dataframe tbody tr th {\n",
       "        vertical-align: top;\n",
       "    }\n",
       "\n",
       "    .dataframe thead th {\n",
       "        text-align: right;\n",
       "    }\n",
       "</style>\n",
       "<table border=\"1\" class=\"dataframe\">\n",
       "  <thead>\n",
       "    <tr style=\"text-align: right;\">\n",
       "      <th></th>\n",
       "      <th>road_type</th>\n",
       "      <th>traffic_type</th>\n",
       "      <th>reserved_lane</th>\n",
       "      <th>road_width</th>\n",
       "      <th>user_type</th>\n",
       "      <th>severity</th>\n",
       "      <th>sex</th>\n",
       "      <th>yob</th>\n",
       "      <th>vehicle_category</th>\n",
       "      <th>lighting</th>\n",
       "      <th>intersection_type</th>\n",
       "      <th>atmospheric_conditions</th>\n",
       "      <th>accident_year</th>\n",
       "      <th>fatal</th>\n",
       "      <th>age</th>\n",
       "    </tr>\n",
       "  </thead>\n",
       "  <tbody>\n",
       "    <tr>\n",
       "      <th>count</th>\n",
       "      <td>161840.000000</td>\n",
       "      <td>161640.000000</td>\n",
       "      <td>161475.000000</td>\n",
       "      <td>160083.000000</td>\n",
       "      <td>161840.0</td>\n",
       "      <td>161840.000000</td>\n",
       "      <td>161840.000000</td>\n",
       "      <td>161700.000000</td>\n",
       "      <td>161840.000000</td>\n",
       "      <td>161840.000000</td>\n",
       "      <td>161840.000000</td>\n",
       "      <td>161828.000000</td>\n",
       "      <td>161840.000000</td>\n",
       "      <td>161840.000000</td>\n",
       "      <td>161700.000000</td>\n",
       "    </tr>\n",
       "    <tr>\n",
       "      <th>mean</th>\n",
       "      <td>3.874679</td>\n",
       "      <td>1.715287</td>\n",
       "      <td>0.192160</td>\n",
       "      <td>51.667166</td>\n",
       "      <td>3.0</td>\n",
       "      <td>3.473795</td>\n",
       "      <td>1.516584</td>\n",
       "      <td>1969.159629</td>\n",
       "      <td>10.746342</td>\n",
       "      <td>1.846083</td>\n",
       "      <td>1.657489</td>\n",
       "      <td>1.565601</td>\n",
       "      <td>10.195520</td>\n",
       "      <td>0.044964</td>\n",
       "      <td>41.038955</td>\n",
       "    </tr>\n",
       "    <tr>\n",
       "      <th>std</th>\n",
       "      <td>1.133293</td>\n",
       "      <td>0.730749</td>\n",
       "      <td>0.687981</td>\n",
       "      <td>60.187819</td>\n",
       "      <td>0.0</td>\n",
       "      <td>0.686406</td>\n",
       "      <td>0.499726</td>\n",
       "      <td>26.075057</td>\n",
       "      <td>11.316246</td>\n",
       "      <td>1.523510</td>\n",
       "      <td>1.549601</td>\n",
       "      <td>1.607486</td>\n",
       "      <td>3.454617</td>\n",
       "      <td>0.207226</td>\n",
       "      <td>25.912698</td>\n",
       "    </tr>\n",
       "    <tr>\n",
       "      <th>min</th>\n",
       "      <td>1.000000</td>\n",
       "      <td>0.000000</td>\n",
       "      <td>0.000000</td>\n",
       "      <td>-81.000000</td>\n",
       "      <td>3.0</td>\n",
       "      <td>1.000000</td>\n",
       "      <td>1.000000</td>\n",
       "      <td>1898.000000</td>\n",
       "      <td>1.000000</td>\n",
       "      <td>1.000000</td>\n",
       "      <td>0.000000</td>\n",
       "      <td>1.000000</td>\n",
       "      <td>5.000000</td>\n",
       "      <td>0.000000</td>\n",
       "      <td>0.000000</td>\n",
       "    </tr>\n",
       "    <tr>\n",
       "      <th>25%</th>\n",
       "      <td>3.000000</td>\n",
       "      <td>1.000000</td>\n",
       "      <td>0.000000</td>\n",
       "      <td>0.000000</td>\n",
       "      <td>3.0</td>\n",
       "      <td>3.000000</td>\n",
       "      <td>1.000000</td>\n",
       "      <td>1947.000000</td>\n",
       "      <td>7.000000</td>\n",
       "      <td>1.000000</td>\n",
       "      <td>1.000000</td>\n",
       "      <td>1.000000</td>\n",
       "      <td>7.000000</td>\n",
       "      <td>0.000000</td>\n",
       "      <td>17.000000</td>\n",
       "    </tr>\n",
       "    <tr>\n",
       "      <th>50%</th>\n",
       "      <td>4.000000</td>\n",
       "      <td>2.000000</td>\n",
       "      <td>0.000000</td>\n",
       "      <td>55.000000</td>\n",
       "      <td>3.0</td>\n",
       "      <td>4.000000</td>\n",
       "      <td>2.000000</td>\n",
       "      <td>1972.000000</td>\n",
       "      <td>7.000000</td>\n",
       "      <td>1.000000</td>\n",
       "      <td>1.000000</td>\n",
       "      <td>1.000000</td>\n",
       "      <td>10.000000</td>\n",
       "      <td>0.000000</td>\n",
       "      <td>39.000000</td>\n",
       "    </tr>\n",
       "    <tr>\n",
       "      <th>75%</th>\n",
       "      <td>4.000000</td>\n",
       "      <td>2.000000</td>\n",
       "      <td>0.000000</td>\n",
       "      <td>77.000000</td>\n",
       "      <td>3.0</td>\n",
       "      <td>4.000000</td>\n",
       "      <td>2.000000</td>\n",
       "      <td>1993.000000</td>\n",
       "      <td>7.000000</td>\n",
       "      <td>2.000000</td>\n",
       "      <td>2.000000</td>\n",
       "      <td>1.000000</td>\n",
       "      <td>13.000000</td>\n",
       "      <td>0.000000</td>\n",
       "      <td>63.000000</td>\n",
       "    </tr>\n",
       "    <tr>\n",
       "      <th>max</th>\n",
       "      <td>9.000000</td>\n",
       "      <td>4.000000</td>\n",
       "      <td>3.000000</td>\n",
       "      <td>999.000000</td>\n",
       "      <td>3.0</td>\n",
       "      <td>4.000000</td>\n",
       "      <td>2.000000</td>\n",
       "      <td>2016.000000</td>\n",
       "      <td>99.000000</td>\n",
       "      <td>5.000000</td>\n",
       "      <td>9.000000</td>\n",
       "      <td>9.000000</td>\n",
       "      <td>16.000000</td>\n",
       "      <td>1.000000</td>\n",
       "      <td>109.000000</td>\n",
       "    </tr>\n",
       "  </tbody>\n",
       "</table>\n",
       "</div>"
      ],
      "text/plain": [
       "           road_type   traffic_type  reserved_lane     road_width  user_type  \\\n",
       "count  161840.000000  161640.000000  161475.000000  160083.000000   161840.0   \n",
       "mean        3.874679       1.715287       0.192160      51.667166        3.0   \n",
       "std         1.133293       0.730749       0.687981      60.187819        0.0   \n",
       "min         1.000000       0.000000       0.000000     -81.000000        3.0   \n",
       "25%         3.000000       1.000000       0.000000       0.000000        3.0   \n",
       "50%         4.000000       2.000000       0.000000      55.000000        3.0   \n",
       "75%         4.000000       2.000000       0.000000      77.000000        3.0   \n",
       "max         9.000000       4.000000       3.000000     999.000000        3.0   \n",
       "\n",
       "            severity            sex            yob  vehicle_category  \\\n",
       "count  161840.000000  161840.000000  161700.000000     161840.000000   \n",
       "mean        3.473795       1.516584    1969.159629         10.746342   \n",
       "std         0.686406       0.499726      26.075057         11.316246   \n",
       "min         1.000000       1.000000    1898.000000          1.000000   \n",
       "25%         3.000000       1.000000    1947.000000          7.000000   \n",
       "50%         4.000000       2.000000    1972.000000          7.000000   \n",
       "75%         4.000000       2.000000    1993.000000          7.000000   \n",
       "max         4.000000       2.000000    2016.000000         99.000000   \n",
       "\n",
       "            lighting  intersection_type  atmospheric_conditions  \\\n",
       "count  161840.000000      161840.000000           161828.000000   \n",
       "mean        1.846083           1.657489                1.565601   \n",
       "std         1.523510           1.549601                1.607486   \n",
       "min         1.000000           0.000000                1.000000   \n",
       "25%         1.000000           1.000000                1.000000   \n",
       "50%         1.000000           1.000000                1.000000   \n",
       "75%         2.000000           2.000000                1.000000   \n",
       "max         5.000000           9.000000                9.000000   \n",
       "\n",
       "       accident_year          fatal            age  \n",
       "count  161840.000000  161840.000000  161700.000000  \n",
       "mean       10.195520       0.044964      41.038955  \n",
       "std         3.454617       0.207226      25.912698  \n",
       "min         5.000000       0.000000       0.000000  \n",
       "25%         7.000000       0.000000      17.000000  \n",
       "50%        10.000000       0.000000      39.000000  \n",
       "75%        13.000000       0.000000      63.000000  \n",
       "max        16.000000       1.000000     109.000000  "
      ]
     },
     "execution_count": 10,
     "metadata": {},
     "output_type": "execute_result"
    }
   ],
   "source": [
    "pedestrian_data.describe() # get a handle on what the data looks like. Identify good attributes. "
   ]
  },
  {
   "cell_type": "code",
   "execution_count": 11,
   "metadata": {},
   "outputs": [],
   "source": [
    "#Note that there is no traffic type = 0 attribute on kaggle; these are probably fields that were not filled. \n",
    "\n",
    "pedestrian_data = pedestrian_data[pedestrian_data['traffic_type'] != 0] #no match in files for 0 designation\n",
    "\n",
    "pedestrian_data = pedestrian_data[['traffic_type', 'age', 'sex', 'fatal']].dropna() #restrict to interesting vars"
   ]
  },
  {
   "cell_type": "markdown",
   "metadata": {},
   "source": [
    "### Resample\n",
    "\n",
    "Note that there is a class imbalance: only about 1% of these records are for fatal accidents. This is an issue because many ML algorithms are trained to minimize overall accuracy, and to do so they could just always classify accidents as nonfatal, which would give an accuracy of 99%.\n",
    "\n",
    "To correct this:\n",
    "\n",
    "-get number of instances for minority class\n",
    "\n",
    "-downsample (since our dataset is large)"
   ]
  },
  {
   "cell_type": "code",
   "execution_count": 12,
   "metadata": {},
   "outputs": [
    {
     "name": "stdout",
     "output_type": "stream",
     "text": [
      "6929 , 142904\n"
     ]
    }
   ],
   "source": [
    "majority_df = pedestrian_data[pedestrian_data['fatal'] == 0] #nonfatal\n",
    "minority_df = pedestrian_data[pedestrian_data['fatal'] == 1] #fatal\n",
    "print(len(minority_df), \",\", len(majority_df)) #check the relative lengths of our classes"
   ]
  },
  {
   "cell_type": "code",
   "execution_count": 13,
   "metadata": {},
   "outputs": [
    {
     "data": {
      "text/plain": [
       "1    6929\n",
       "0    6929\n",
       "Name: fatal, dtype: int64"
      ]
     },
     "execution_count": 13,
     "metadata": {},
     "output_type": "execute_result"
    }
   ],
   "source": [
    "#downsampling procedure (uses sklearn's resample method):\n",
    "\n",
    "majority_df_downsampled = resample(majority_df, replace=True, n_samples=len(minority_df), random_state=0)\n",
    "\n",
    "#Merge dfs: \n",
    "\n",
    "df_resampled = pd.concat([minority_df, majority_df_downsampled]) \n",
    "\n",
    "df_resampled['fatal'].value_counts() #note that we now have equal numbers of fatal and non-fatal ped accidents:"
   ]
  },
  {
   "cell_type": "markdown",
   "metadata": {},
   "source": [
    "### Build dummy variables for categorical attributes:\n",
    "\n",
    "Almost all of the attributes in this dataset are categorical (ie male vs female). This presents some challenges, and\n",
    "limits our analysis in certain ways. One thing to keep in mind is that some of these variables are currently written \n",
    "as though continuous (ie 1, 2, 3, 4), which they are not. We need to convert them to one-hot encoded variables, \n",
    "for which the pandas get_dummies method is useful:"
   ]
  },
  {
   "cell_type": "code",
   "execution_count": 14,
   "metadata": {},
   "outputs": [],
   "source": [
    "sex = pd.get_dummies(df_resampled.sex).rename(columns={1:'male',2:'female'})\n",
    "age_vector = df_resampled['age']\n",
    "X = pd.concat([sex, age_vector], axis=1) #these are our attributes, and a pandas df is a fine place for them\n",
    "y = df_resampled['fatal'].values #these are our labels, and sklearn likes them as a 1d array"
   ]
  },
  {
   "cell_type": "markdown",
   "metadata": {},
   "source": [
    "### Now for the ML\n",
    "\n",
    "-we will need to:\n",
    "    \n",
    "    -split the data into train/test sets. We can do this with train_test_split from sklearn\n",
    "    \n",
    "    -choose a model. We are predicting a categorical variable, so logistic regression makes sense to start with. \n",
    "    \n",
    "    -train the model with the train sets\n",
    "    \n",
    "    -use that model to make predictions"
   ]
  },
  {
   "cell_type": "code",
   "execution_count": 15,
   "metadata": {},
   "outputs": [
    {
     "name": "stdout",
     "output_type": "stream",
     "text": [
      "coefficients =  [[-0.06083205 -0.85830805  0.02795233]]\n",
      "score =  0.6785714285714286\n"
     ]
    }
   ],
   "source": [
    "#split our data into trainining and test sets:\n",
    "\n",
    "X_train, X_test, y_train, y_test = train_test_split(X, y, test_size=.2, random_state=0)\n",
    "\n",
    "logistic_reg = LogisticRegression(solver='lbfgs')\n",
    "logistic_reg.fit(X_train, y_train)\n",
    "\n",
    "print(\"coefficients = \", logistic_reg.coef_) #spit out our coefficients, which map to male, female, and age variables\n",
    "\n",
    "score = logistic_reg.score(X_test, y_test)\n",
    "print(\"score = \", score) #our accuracy on the test sets"
   ]
  },
  {
   "cell_type": "markdown",
   "metadata": {},
   "source": [
    "68% accuracy is not fantastic, but given how few predictors we have here, it's not bad. Let's now plot our predictions \n",
    "versus age as an explanatory variable. Note that logistic regression outputs a label, based on a probability. And \n",
    "our logistic regression instance has the 'proba' method, which spits out class probabilities instead. Once we have our predictions in hand, we can plot them, color-coding by whether the prediction was accurate. \n"
   ]
  },
  {
   "cell_type": "code",
   "execution_count": 16,
   "metadata": {},
   "outputs": [
    {
     "data": {
      "text/plain": [
       "array([[0.39058948, 0.60941052],\n",
       "       [0.45876592, 0.54123408],\n",
       "       [0.33260955, 0.66739045],\n",
       "       ...,\n",
       "       [0.63678767, 0.36321233],\n",
       "       [0.33884318, 0.66115682],\n",
       "       [0.44492033, 0.55507967]])"
      ]
     },
     "execution_count": 16,
     "metadata": {},
     "output_type": "execute_result"
    }
   ],
   "source": [
    "predictions = logistic_reg.predict(X_test) #outputs categories only\n",
    "probabilities = logistic_reg.predict_proba(X_test)\n",
    "probabilities #these predictions come out as probabilities of belonging to class 0 versus 1 (ie nonfatal vs fatal)"
   ]
  },
  {
   "cell_type": "code",
   "execution_count": 17,
   "metadata": {},
   "outputs": [],
   "source": [
    "#build a correct v incorrect color list:\n",
    "\n",
    "col_list = []\n",
    "for i in range(len(y_test)):\n",
    "    if y_test[i] == predictions[i]: col_list.append('black')\n",
    "    else: col_list.append('red')"
   ]
  },
  {
   "cell_type": "code",
   "execution_count": 18,
   "metadata": {},
   "outputs": [
    {
     "data": {
      "image/png": "[encoded data removed]",
      "text/plain": [
       "<Figure size 648x360 with 1 Axes>"
      ]
     },
     "metadata": {
      "needs_background": "light"
     },
     "output_type": "display_data"
    }
   ],
   "source": [
    "### Plot our data. Use x = age, y = probability, color = incorrect vs correct:\n",
    "\n",
    "fig, ax = plt.subplots(figsize=(9,5))\n",
    "legend_elements = [Line2D([0], [0], marker='o', color='black', label='correct predictions'), \n",
    "                  Line2D([0], [0], marker='o', color='red', label='incorrect predictions')]\n",
    "plt.scatter(X_test['age'], probabilities[:,1], color=col_list)\n",
    "ax.legend(handles=legend_elements, loc='upper left')\n",
    "plt.ylabel(\"predicted probability of fatal event\")\n",
    "plt.xlabel(\"age\")\n",
    "plt.title(\"Pedestrian fatality risk in collisions\")\n",
    "plt.show()"
   ]
  },
  {
   "cell_type": "markdown",
   "metadata": {},
   "source": [
    "### Is this a male versus female regression line?\n",
    "\n",
    "This looks interesting. Remember that we are using the categorical variable of m/f in our model. It looks like we are \n",
    "getting two distinct regression lines, mapping to male versus female variables. To ask whether this is the case, let's\n",
    "remove that category for an overall regressor, then look at regressors for just that category. \n"
   ]
  },
  {
   "cell_type": "code",
   "execution_count": 19,
   "metadata": {},
   "outputs": [],
   "source": [
    "#separate our datasets into three, then split them, train regressors, and make predictions as before:\n",
    "\n",
    "X_a = pd.concat([age_vector], axis=1) #age only\n",
    "\n",
    "\n",
    "X_a_train, X_a_test, y_train, y_test = train_test_split(X_a, y, test_size=.2, random_state=0)\n",
    "logistic_reg_a = LogisticRegression(solver='lbfgs')\n",
    "logistic_reg_a.fit(X_a_train, y_train)\n",
    "a_probabilities = logistic_reg_a.predict_proba(X_a_test)\n",
    "a_predictions = logistic_reg_a.predict(X_a_test)\n",
    "\n",
    "\n",
    "X_f = pd.concat([age_vector, sex], axis=1) #female only \n",
    "\n",
    "X_f['y'] = y\n",
    "X_f = X_f[X_f['female'] == 1].drop(columns=['male'])\n",
    "y_f = X_f['y'].values\n",
    "X_f = X_f.drop(columns=['y'])\n",
    "\n",
    "X_f_train, X_f_test, y_f_train, y_f_test = train_test_split(X_f, y_f, test_size=.2, random_state=0)\n",
    "logistic_reg_f = LogisticRegression(solver='lbfgs')\n",
    "logistic_reg_f.fit(X_f_train, y_f_train)\n",
    "f_probabilities = logistic_reg_f.predict_proba(X_f_test)\n",
    "f_predictions = logistic_reg_f.predict(X_f_test)\n",
    "\n",
    "X_m = pd.concat([age_vector, sex], axis=1) #male only\n",
    "\n",
    "X_m['y'] = y\n",
    "X_m = X_m[X_m['male'] == 1].drop(columns=['female'])\n",
    "y_m = X_m['y'].values\n",
    "X_m = X_m.drop(columns=['y'])\n",
    "\n",
    "X_m_train, X_m_test, y_m_train, y_m_test = train_test_split(X_m, y_m, test_size=.2, random_state=0)\n",
    "logistic_reg_m = LogisticRegression(solver='lbfgs')\n",
    "logistic_reg_m.fit(X_m_train, y_m_train)\n",
    "m_probabilities = logistic_reg_m.predict_proba(X_m_test)\n",
    "m_predictions = logistic_reg_m.predict(X_m_test)"
   ]
  },
  {
   "cell_type": "code",
   "execution_count": 26,
   "metadata": {},
   "outputs": [
    {
     "data": {
      "text/plain": [
       "<matplotlib.axes._subplots.AxesSubplot at 0x12c371a90>"
      ]
     },
     "execution_count": 26,
     "metadata": {},
     "output_type": "execute_result"
    },
    {
     "data": {
      "image/png": "[encoded data removed]",
      "text/plain": [
       "<Figure size 432x288 with 1 Axes>"
      ]
     },
     "metadata": {
      "needs_background": "light"
     },
     "output_type": "display_data"
    }
   ],
   "source": [
    "#let's take a peek at whether there is structure in incidents across ages for females and males. \n",
    "\n",
    "X_f['age'].hist(bins=25)"
   ]
  },
  {
   "cell_type": "code",
   "execution_count": 28,
   "metadata": {},
   "outputs": [
    {
     "data": {
      "text/plain": [
       "<matplotlib.axes._subplots.AxesSubplot at 0x12c700da0>"
      ]
     },
     "execution_count": 28,
     "metadata": {},
     "output_type": "execute_result"
    },
    {
     "data": {
      "image/png": "[encoded data removed]",
      "text/plain": [
       "<Figure size 432x288 with 1 Axes>"
      ]
     },
     "metadata": {
      "needs_background": "light"
     },
     "output_type": "display_data"
    }
   ],
   "source": [
    "X_m['age'].hist(bins=25)"
   ]
  },
  {
   "cell_type": "markdown",
   "metadata": {},
   "source": [
    "Super interesting! It would be useful to normalize this to the percentage of the population per age group, such that \n",
    "we get a sense of the rates of involvement in collisions by age. But already it is clear that the structure between \n",
    "males and females is different--males maintain a high rate of collision involvement that looks age-invariant. Rather than chase that down, let's look at our regressors. "
   ]
  },
  {
   "cell_type": "code",
   "execution_count": 31,
   "metadata": {},
   "outputs": [],
   "source": [
    "# first, a delightful color scheme:\n",
    "\n",
    "gold = \"#F2D936\"\n",
    "navy = \"#1E3066\"\n",
    "light_blue = \"#2BC2E8\""
   ]
  },
  {
   "cell_type": "code",
   "execution_count": 32,
   "metadata": {},
   "outputs": [
    {
     "name": "stderr",
     "output_type": "stream",
     "text": [
      "/Users/ryanmdalton/Desktop/CODE/cities_and_populations/transit/transit_in_france/frenchdata/lib/python3.6/site-packages/ipykernel_launcher.py:3: SettingWithCopyWarning: \n",
      "A value is trying to be set on a copy of a slice from a DataFrame.\n",
      "Try using .loc[row_indexer,col_indexer] = value instead\n",
      "\n",
      "See the caveats in the documentation: http://pandas.pydata.org/pandas-docs/stable/user_guide/indexing.html#returning-a-view-versus-a-copy\n",
      "  This is separate from the ipykernel package so we can avoid doing imports until\n",
      "/Users/ryanmdalton/Desktop/CODE/cities_and_populations/transit/transit_in_france/frenchdata/lib/python3.6/site-packages/ipykernel_launcher.py:4: SettingWithCopyWarning: \n",
      "A value is trying to be set on a copy of a slice from a DataFrame.\n",
      "Try using .loc[row_indexer,col_indexer] = value instead\n",
      "\n",
      "See the caveats in the documentation: http://pandas.pydata.org/pandas-docs/stable/user_guide/indexing.html#returning-a-view-versus-a-copy\n",
      "  after removing the cwd from sys.path.\n",
      "/Users/ryanmdalton/Desktop/CODE/cities_and_populations/transit/transit_in_france/frenchdata/lib/python3.6/site-packages/ipykernel_launcher.py:5: SettingWithCopyWarning: \n",
      "A value is trying to be set on a copy of a slice from a DataFrame.\n",
      "Try using .loc[row_indexer,col_indexer] = value instead\n",
      "\n",
      "See the caveats in the documentation: http://pandas.pydata.org/pandas-docs/stable/user_guide/indexing.html#returning-a-view-versus-a-copy\n",
      "  \"\"\"\n",
      "/Users/ryanmdalton/Desktop/CODE/cities_and_populations/transit/transit_in_france/frenchdata/lib/python3.6/site-packages/ipykernel_launcher.py:7: SettingWithCopyWarning: \n",
      "A value is trying to be set on a copy of a slice from a DataFrame\n",
      "\n",
      "See the caveats in the documentation: http://pandas.pydata.org/pandas-docs/stable/user_guide/indexing.html#returning-a-view-versus-a-copy\n",
      "  import sys\n",
      "/Users/ryanmdalton/Desktop/CODE/cities_and_populations/transit/transit_in_france/frenchdata/lib/python3.6/site-packages/ipykernel_launcher.py:8: SettingWithCopyWarning: \n",
      "A value is trying to be set on a copy of a slice from a DataFrame\n",
      "\n",
      "See the caveats in the documentation: http://pandas.pydata.org/pandas-docs/stable/user_guide/indexing.html#returning-a-view-versus-a-copy\n",
      "  \n",
      "/Users/ryanmdalton/Desktop/CODE/cities_and_populations/transit/transit_in_france/frenchdata/lib/python3.6/site-packages/ipykernel_launcher.py:9: SettingWithCopyWarning: \n",
      "A value is trying to be set on a copy of a slice from a DataFrame\n",
      "\n",
      "See the caveats in the documentation: http://pandas.pydata.org/pandas-docs/stable/user_guide/indexing.html#returning-a-view-versus-a-copy\n",
      "  if __name__ == '__main__':\n"
     ]
    }
   ],
   "source": [
    "# sort our data so we can use it for a line plot:\n",
    "\n",
    "X_f_test['probs'] = [i[1] for i in f_probabilities]\n",
    "X_m_test['probs'] = [i[1] for i in m_probabilities]\n",
    "X_a_test['probs'] = [i[1] for i in a_probabilities]\n",
    "\n",
    "X_f_test.sort_values(by=['age'], inplace=True)\n",
    "X_m_test.sort_values(by=['age'], inplace=True)\n",
    "X_a_test.sort_values(by=['age'], inplace=True)"
   ]
  },
  {
   "cell_type": "code",
   "execution_count": 34,
   "metadata": {},
   "outputs": [
    {
     "data": {
      "image/png": "[encoded data removed]",
      "text/plain": [
       "<Figure size 936x576 with 1 Axes>"
      ]
     },
     "metadata": {
      "needs_background": "light"
     },
     "output_type": "display_data"
    }
   ],
   "source": [
    "fig, ax = plt.subplots(figsize=(13,8))\n",
    "legend_elements = [Line2D([0], [0], marker='o', color=light_blue, label='males'), \n",
    "                  Line2D([0], [0], marker='o', color='black', label='all'), \n",
    "                  Line2D([0], [0], marker='o', color=gold, label='females')]\n",
    "plt.plot(X_m_test['age'], X_m_test['probs'], color=light_blue, linewidth=5)\n",
    "plt.plot(X_a_test['age'], X_a_test['probs'], color='black', linewidth=5)\n",
    "plt.plot(X_f_test['age'], X_f_test['probs'], color=gold, linewidth=5)\n",
    "ax.legend(handles=legend_elements, loc='upper left')\n",
    "plt.ylabel(\"predicted probability of fatal event\")\n",
    "plt.xlabel(\"age\")\n",
    "plt.title(\"Pedestrian fatality risk in collisions\")\n",
    "plt.show()"
   ]
  },
  {
   "cell_type": "code",
   "execution_count": null,
   "metadata": {},
   "outputs": [],
   "source": []
  }
 ],
 "metadata": {
  "kernelspec": {
   "display_name": "Python 3",
   "language": "python",
   "name": "python3"
  },
  "language_info": {
   "codemirror_mode": {
    "name": "ipython",
    "version": 3
   },
   "file_extension": ".py",
   "mimetype": "text/x-python",
   "name": "python",
   "nbconvert_exporter": "python",
   "pygments_lexer": "ipython3",
   "version": "3.6.5"
  }
 },
 "nbformat": 4,
 "nbformat_minor": 2
}
